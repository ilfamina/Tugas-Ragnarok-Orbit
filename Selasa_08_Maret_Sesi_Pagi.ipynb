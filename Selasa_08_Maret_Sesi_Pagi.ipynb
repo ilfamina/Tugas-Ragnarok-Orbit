{
  "nbformat": 4,
  "nbformat_minor": 0,
  "metadata": {
    "colab": {
      "name": "Selasa_08_Maret_Sesi Pagi",
      "provenance": []
    },
    "kernelspec": {
      "name": "python3",
      "display_name": "Python 3"
    },
    "language_info": {
      "name": "python"
    }
  },
  "cells": [
    {
      "cell_type": "code",
      "execution_count": 1,
      "metadata": {
        "id": "BDEscukXFJbP"
      },
      "outputs": [],
      "source": [
        "import numpy as np"
      ]
    },
    {
      "cell_type": "markdown",
      "source": [
        "Latihan 2"
      ],
      "metadata": {
        "id": "UcSHQAGQFRCV"
      }
    },
    {
      "cell_type": "code",
      "source": [
        "A = np.array([[1, 2, 3], [4, 5, 6], [7, 8, 9]])\n",
        "print(A, \"\\n\")\n",
        "#Lengkapi kodingan berikut\n",
        "print('banyaknya entry = ', A.size)\n",
        "print('dimensi array = ', A.ndim)\n",
        "print('ukuran array = ', A.shape, \"\\n\")"
      ],
      "metadata": {
        "colab": {
          "base_uri": "https://localhost:8080/"
        },
        "id": "vyGuwLfRFOi_",
        "outputId": "69d99357-37af-45df-dccd-d7e76cf4a721"
      },
      "execution_count": 2,
      "outputs": [
        {
          "output_type": "stream",
          "name": "stdout",
          "text": [
            "[[1 2 3]\n",
            " [4 5 6]\n",
            " [7 8 9]] \n",
            "\n",
            "banyaknya entry =  9\n",
            "dimensi array =  2\n",
            "ukuran array =  (3, 3) \n",
            "\n"
          ]
        }
      ]
    },
    {
      "cell_type": "markdown",
      "source": [
        "Latihan 3"
      ],
      "metadata": {
        "id": "xt3Vs0_cFYtg"
      }
    },
    {
      "cell_type": "code",
      "source": [
        "#Lengkapi kodingan berikut\n",
        "print('baris ke-3 =', A[2])\n",
        "print('entry ke-1 & 2 baris ke-3 = ', A[2][0:2])\n",
        "print('entry ke-2 & 3 kolom ke-3 = \\n', A[1:3,2:]) #Baris 1-2 kolom >= 2"
      ],
      "metadata": {
        "colab": {
          "base_uri": "https://localhost:8080/"
        },
        "id": "S2gxTpzWFb-l",
        "outputId": "f2001fae-47fb-4138-c227-56b11ee29664"
      },
      "execution_count": 3,
      "outputs": [
        {
          "output_type": "stream",
          "name": "stdout",
          "text": [
            "baris ke-3 = [7 8 9]\n",
            "entry ke-1 & 2 baris ke-3 =  [7 8]\n",
            "entry ke-2 & 3 kolom ke-3 = \n",
            " [[6]\n",
            " [9]]\n"
          ]
        }
      ]
    },
    {
      "cell_type": "markdown",
      "source": [
        "Latihan 4"
      ],
      "metadata": {
        "id": "fWlBgWI2FjJI"
      }
    },
    {
      "cell_type": "code",
      "source": [
        "A = np.array([[1, 2], [7,8]])\n",
        "B = np.array([[3, 5], [1,6]])\n",
        "print(\"Hasil 2xA : \\n\", 2*A)\n",
        "print(\"Hasil 2+A : \\n\", 2+A)\n",
        "print(\"HasilA+B : \\n\", A+B)\n",
        "print(\"HasilA-B : \\n\", A-B)\n",
        "print(\"Hasil det(A) : \\n \", np.linalg.det(A))"
      ],
      "metadata": {
        "colab": {
          "base_uri": "https://localhost:8080/"
        },
        "id": "kUMQaDDfFkt-",
        "outputId": "62e4d057-b5c2-4f20-c85b-2e427e465f3b"
      },
      "execution_count": 4,
      "outputs": [
        {
          "output_type": "stream",
          "name": "stdout",
          "text": [
            "Hasil 2xA : \n",
            " [[ 2  4]\n",
            " [14 16]]\n",
            "Hasil 2+A : \n",
            " [[ 3  4]\n",
            " [ 9 10]]\n",
            "HasilA+B : \n",
            " [[ 4  7]\n",
            " [ 8 14]]\n",
            "HasilA-B : \n",
            " [[-2 -3]\n",
            " [ 6  2]]\n",
            "Hasil det(A) : \n",
            "  -6.0\n"
          ]
        }
      ]
    },
    {
      "cell_type": "code",
      "source": [
        "#invers dari B, simpan jadi matriks D\n",
        "D = np.linalg.inv(B)\n",
        "print(\"D :\\n\",D, \"\\n\")\n",
        "\n",
        "#transpose D\n",
        "print(\"D^T : \\n\", D.transpose(), \"\\n\")\n",
        "\n",
        "#nilai eigen dan vektor eigen dari A dan B\n",
        "print(\"Eigen Value A :\", np.linalg.eig(A)[0])\n",
        "print(\"Eigen Vector A:\\n\", np.linalg.eig(A)[1],\"\\n\")\n",
        "print(\"Eigen Value B :\", np.linalg.eig(B)[0])\n",
        "print(\"Eigen Vector B:\\n\", np.linalg.eig(B)[1])"
      ],
      "metadata": {
        "colab": {
          "base_uri": "https://localhost:8080/"
        },
        "id": "SfFHH4y1FtnL",
        "outputId": "4a346650-be58-4a2d-bd90-66ea08e2d493"
      },
      "execution_count": 5,
      "outputs": [
        {
          "output_type": "stream",
          "name": "stdout",
          "text": [
            "D :\n",
            " [[ 0.46153846 -0.38461538]\n",
            " [-0.07692308  0.23076923]] \n",
            "\n",
            "D^T : \n",
            " [[ 0.46153846 -0.07692308]\n",
            " [-0.38461538  0.23076923]] \n",
            "\n",
            "Eigen Value A : [-0.62347538  9.62347538]\n",
            "Eigen Vector A:\n",
            " [[-0.77640358 -0.22592838]\n",
            " [ 0.63023605 -0.97414391]] \n",
            "\n",
            "Eigen Value B : [1.8074176 7.1925824]\n",
            "Eigen Vector B:\n",
            " [[-0.97271381 -0.76626443]\n",
            " [ 0.23200828 -0.64252535]]\n"
          ]
        }
      ]
    },
    {
      "cell_type": "markdown",
      "source": [
        "Apa perbedaan dari B*D (perkalian antar entry di B dan D) dan BD (perkalian matriks B dan D)?"
      ],
      "metadata": {
        "id": "9KXlIA24FyKL"
      }
    },
    {
      "cell_type": "code",
      "source": [
        "print(\"BxD : \\n\",B*D)\n",
        "print(\"BxD : \\n\",np.matmul(B,D))"
      ],
      "metadata": {
        "colab": {
          "base_uri": "https://localhost:8080/"
        },
        "id": "15-h8H01F0xw",
        "outputId": "d4cc4761-123e-4972-aa2f-5dc378276091"
      },
      "execution_count": 6,
      "outputs": [
        {
          "output_type": "stream",
          "name": "stdout",
          "text": [
            "BxD : \n",
            " [[ 1.38461538 -1.92307692]\n",
            " [-0.07692308  1.38461538]]\n",
            "BxD : \n",
            " [[ 1.00000000e+00 -1.11022302e-16]\n",
            " [ 1.11022302e-16  1.00000000e+00]]\n"
          ]
        }
      ]
    },
    {
      "cell_type": "markdown",
      "source": [
        "Perbedaan perkalian entry yang dikalikan pada bilangan baris 1 di matriks B dikalikan bilangan pada baris 1 matriks D, akan tetapi pada kolom 2 matriks B akan dikalikan kolom 2 di matriks D. Sedangkan perkalian matriks yang dikalikan merupakan matrik baris B dengan kolom matrik D dan kolom matriks B dengan baris matrik D\n",
        "\n",
        "---\n",
        "\n"
      ],
      "metadata": {
        "id": "nFJ1WHJzF5gS"
      }
    }
  ]
}