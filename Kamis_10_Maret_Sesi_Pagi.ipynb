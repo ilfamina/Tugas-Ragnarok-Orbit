{
  "nbformat": 4,
  "nbformat_minor": 0,
  "metadata": {
    "colab": {
      "name": "Kamis_10_Maret_Sesi Pagi",
      "provenance": []
    },
    "kernelspec": {
      "name": "python3",
      "display_name": "Python 3"
    },
    "language_info": {
      "name": "python"
    }
  },
  "cells": [
    {
      "cell_type": "markdown",
      "source": [
        "Tugas Uji Hipotesis"
      ],
      "metadata": {
        "id": "lqafh7dDH1AG"
      }
    },
    {
      "cell_type": "markdown",
      "source": [
        "Misalkan kamu adalah data scientist di gojek. Kamu ingin mengetahui apakah kemacetan mempengaruhi tingkat kepuasan pelanggan. Jadi kamu ingin membandingkan nilai \"bintang\" dari customer saat dia order di jam macet dan tidak macet. (#hint = data dari customer yang sama)\n",
        "\n",
        "macet = [2, 3, 5, 4, 5, 4, 4, 3, 4, 3, 4, 5, 4, 5, 4, 3, 4, 3, 3, 5, 4, 3, 4, 3, 4, 3, 4, 4, 5]\n",
        "\n",
        "tidak_macet = [2, 2, 4, 5, 4, 3, 3, 3, 3, 3, 3, 4, 4, 5, 4, 3, 3, 2, 3, 4, 4, 3, 3, 3, 4, 3, 4, 3, 4]\n",
        "\n",
        "Buat hipotesisnya\n",
        "Lakukan uji asumsi normalitasnya\n",
        "Jika datanya normal lakukan uji parametrik, jika tidak berdistribusi normal lakukan uji nonparametrik\n",
        "Apa kesimpulan uji hipotesisnya?"
      ],
      "metadata": {
        "id": "UMqAEf1DH3sU"
      }
    },
    {
      "cell_type": "markdown",
      "source": [
        "1. Buat Hipotesis"
      ],
      "metadata": {
        "id": "2dqQ-8O7IC8D"
      }
    },
    {
      "cell_type": "code",
      "source": [
        "import matplotlib as plt\n",
        "import pandas as pd\n",
        "import seaborn as sns\n",
        "import numpy as np\n",
        "from scipy import stats"
      ],
      "metadata": {
        "id": "Mow8YBfOIAZj"
      },
      "execution_count": 4,
      "outputs": []
    },
    {
      "cell_type": "code",
      "source": [
        "macet = np.array([2, 3, 5, 4, 5, 4, 4, 3, 4, 3, 4, 5, 4, 5, 4, 3, 4, 3, 3, 5, 4, 3, 4, 3, 4, 3, 4, 4, 5])\n",
        "tidak_macet = np.array ( [2, 2, 4, 5, 4, 3, 3, 3, 3, 3, 3, 4, 4, 5, 4, 3, 3, 2, 3, 4, 4, 3, 3, 3, 4, 3, 4, 3, 4])"
      ],
      "metadata": {
        "id": "MbYOlW_QIJ99"
      },
      "execution_count": 3,
      "outputs": []
    },
    {
      "cell_type": "markdown",
      "source": [
        "2. Uji Normalitas"
      ],
      "metadata": {
        "id": "DIFnJb5aIXWy"
      }
    },
    {
      "cell_type": "markdown",
      "source": [
        "Ho = data berdistribusi normal\n",
        "Ha = data tidak berdistribusi normal\n",
        "\n",
        "Asumsikan Rentang Kepercayaanya = 95% alpha = 5%"
      ],
      "metadata": {
        "id": "pnaj0I8pIbYG"
      }
    },
    {
      "cell_type": "code",
      "source": [
        "sns.distplot(macet)"
      ],
      "metadata": {
        "colab": {
          "base_uri": "https://localhost:8080/",
          "height": 337
        },
        "id": "6W5EHOneIhEh",
        "outputId": "ffaaaf60-fd63-4462-c2a3-90d69c1ada09"
      },
      "execution_count": 5,
      "outputs": [
        {
          "output_type": "stream",
          "name": "stderr",
          "text": [
            "/usr/local/lib/python3.7/dist-packages/seaborn/distributions.py:2619: FutureWarning: `distplot` is a deprecated function and will be removed in a future version. Please adapt your code to use either `displot` (a figure-level function with similar flexibility) or `histplot` (an axes-level function for histograms).\n",
            "  warnings.warn(msg, FutureWarning)\n"
          ]
        },
        {
          "output_type": "execute_result",
          "data": {
            "text/plain": [
              "<matplotlib.axes._subplots.AxesSubplot at 0x7f9f09f623d0>"
            ]
          },
          "metadata": {},
          "execution_count": 5
        },
        {
          "output_type": "display_data",
          "data": {
            "text/plain": [
              "<Figure size 432x288 with 1 Axes>"
            ],
            "image/png": "[encoded data removed]"
          },
          "metadata": {
            "needs_background": "light"
          }
        }
      ]
    },
    {
      "cell_type": "code",
      "source": [
        "sns.distplot(tidak_macet)"
      ],
      "metadata": {
        "colab": {
          "base_uri": "https://localhost:8080/",
          "height": 337
        },
        "id": "Ajz-PTogIopu",
        "outputId": "50bd3132-adba-403f-cc94-8437c94237fb"
      },
      "execution_count": 6,
      "outputs": [
        {
          "output_type": "stream",
          "name": "stderr",
          "text": [
            "/usr/local/lib/python3.7/dist-packages/seaborn/distributions.py:2619: FutureWarning: `distplot` is a deprecated function and will be removed in a future version. Please adapt your code to use either `displot` (a figure-level function with similar flexibility) or `histplot` (an axes-level function for histograms).\n",
            "  warnings.warn(msg, FutureWarning)\n"
          ]
        },
        {
          "output_type": "execute_result",
          "data": {
            "text/plain": [
              "<matplotlib.axes._subplots.AxesSubplot at 0x7f9f07dc7190>"
            ]
          },
          "metadata": {},
          "execution_count": 6
        },
        {
          "output_type": "display_data",
          "data": {
            "text/plain": [
              "<Figure size 432x288 with 1 Axes>"
            ],
            "image/png": "[encoded data removed]"
          },
          "metadata": {
            "needs_background": "light"
          }
        }
      ]
    },
    {
      "cell_type": "code",
      "source": [
        "#uji kolmogorov-smirnov\n",
        "z_score_macet = stats.zscore(macet)\n",
        "z_score_tidak_macet = stats.zscore(tidak_macet)\n",
        "print('uji kolmogorov smirnov pada data macet = ', stats.kstest(z_score_macet, \"norm\"))\n",
        "print('uji kolmogorov smirnov pada data tidak_macet = ', stats.kstest(z_score_tidak_macet, \"norm\"))"
      ],
      "metadata": {
        "colab": {
          "base_uri": "https://localhost:8080/"
        },
        "id": "2QrScvUQIyWR",
        "outputId": "e9e4e730-bd59-4a33-c8b5-691c85d53175"
      },
      "execution_count": 7,
      "outputs": [
        {
          "output_type": "stream",
          "name": "stdout",
          "text": [
            "uji kolmogorov smirnov pada data macet =  KstestResult(statistic=0.2414618941043637, pvalue=0.05668593129743599)\n",
            "uji kolmogorov smirnov pada data tidak_macet =  KstestResult(statistic=0.2769460572882385, pvalue=0.01855050750663906)\n"
          ]
        }
      ]
    },
    {
      "cell_type": "markdown",
      "source": [
        "diketahui bahwa alpha = 0,05 sehingga hasil p-value pada macet = 0,056 (>0,05) maka data akan terdistribusi normal sedangkan hasil p-value pada tidak_macet = 0,018 (<0,05) maka data tidak akan terdistribusi normal\n",
        "\n",
        "maka dikarenakan hasil p-value <= 0,05 maka ho akan ditolak, atau data tidak terdistribusi dengan normal"
      ],
      "metadata": {
        "id": "mG_5y5m6I341"
      }
    },
    {
      "cell_type": "markdown",
      "source": [
        "3. Uji Wilcoxon (Non Parametik)"
      ],
      "metadata": {
        "id": "Nnp8C-6PI6sl"
      }
    },
    {
      "cell_type": "markdown",
      "source": [
        "Dikarenakan data pada tidak_macet tidak terdistribusi dengan normal maka selanjutnya akan dilakukan uji beda non-parametik wilcoxon. Uji wilcoxon dilakukan karena 2 kelompok data berhubungan yaitu macet dan tidak_macet"
      ],
      "metadata": {
        "id": "l5MD8NKKI_kR"
      }
    },
    {
      "cell_type": "code",
      "source": [
        "m = macet - tidak_macet\n",
        "stats.wilcoxon(m)"
      ],
      "metadata": {
        "colab": {
          "base_uri": "https://localhost:8080/"
        },
        "id": "8KafodMeJDDr",
        "outputId": "de1dc229-0a8d-4245-bc89-b69292b7fd9b"
      },
      "execution_count": 8,
      "outputs": [
        {
          "output_type": "execute_result",
          "data": {
            "text/plain": [
              "WilcoxonResult(statistic=8.0, pvalue=0.0007891129890156299)"
            ]
          },
          "metadata": {},
          "execution_count": 8
        }
      ]
    }
  ]
}