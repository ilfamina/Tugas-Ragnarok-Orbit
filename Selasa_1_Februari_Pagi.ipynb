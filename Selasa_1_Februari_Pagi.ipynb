{
 "cells": [
  {
   "cell_type": "code",
   "execution_count": 1,
   "id": "8693e9b2",
   "metadata": {},
   "outputs": [
    {
     "name": "stdout",
     "output_type": "stream",
     "text": [
      "Hello World\n"
     ]
    }
   ],
   "source": [
    "#Halaman 1\n",
    "print (\"Hello World\")"
   ]
  },
  {
   "cell_type": "code",
   "execution_count": 2,
   "id": "d32b4fa0",
   "metadata": {},
   "outputs": [
    {
     "name": "stdout",
     "output_type": "stream",
     "text": [
      "Hello\n"
     ]
    }
   ],
   "source": [
    "#Halaman 3\n",
    "#single world\n",
    "print ('Hello')"
   ]
  },
  {
   "cell_type": "code",
   "execution_count": 3,
   "id": "9f6c009e",
   "metadata": {},
   "outputs": [
    {
     "name": "stdout",
     "output_type": "stream",
     "text": [
      "Hello\n",
      "\n",
      "WOrld\n"
     ]
    }
   ],
   "source": [
    "#Halaman 3\n",
    "#single world\n",
    "print ('Hello')\n",
    "print () # Used to have a line space between two sentences\n",
    "print ('WOrld')"
   ]
  },
  {
   "cell_type": "code",
   "execution_count": 4,
   "id": "9271e6c4",
   "metadata": {},
   "outputs": [
    {
     "name": "stdout",
     "output_type": "stream",
     "text": [
      "Hello\n",
      "WOrld\n"
     ]
    }
   ],
   "source": [
    "#Halaman 3\n",
    "#single world\n",
    "#without a line space\n",
    "print ('Hello')\n",
    "print ('WOrld')"
   ]
  },
  {
   "cell_type": "code",
   "execution_count": 6,
   "id": "efe4d9f2",
   "metadata": {},
   "outputs": [
    {
     "name": "stdout",
     "output_type": "stream",
     "text": [
      "Hello\n",
      "This is also a string\n"
     ]
    }
   ],
   "source": [
    "#Halaman 3\n",
    "#entire phrase\n",
    "print ('Hello')\n",
    "print ('This is also a string')"
   ]
  },
  {
   "cell_type": "code",
   "execution_count": 7,
   "id": "17097885",
   "metadata": {},
   "outputs": [
    {
     "name": "stdout",
     "output_type": "stream",
     "text": [
      "Hello\n",
      "\n",
      "This is also a string\n"
     ]
    }
   ],
   "source": [
    "#Halaman 3\n",
    "#entire phrase\n",
    "print ('Hello')\n",
    "print () #Used to have a line space between two sentences\n",
    "print ('This is also a string')"
   ]
  },
  {
   "cell_type": "code",
   "execution_count": 8,
   "id": "a52ba255",
   "metadata": {},
   "outputs": [
    {
     "name": "stdout",
     "output_type": "stream",
     "text": [
      "New York\n",
      "<class 'str'>\n",
      "8\n"
     ]
    }
   ],
   "source": [
    "#Halaman 3\n",
    "#Variable\n",
    "s = 'New York'\n",
    "print(s)\n",
    "print(type(s))\n",
    "print(len(s)) #what's the string length"
   ]
  },
  {
   "cell_type": "code",
   "execution_count": 10,
   "id": "221f1cbc",
   "metadata": {},
   "outputs": [
    {
     "name": "stdout",
     "output_type": "stream",
     "text": [
      "Hello World\n",
      "\n",
      "H\n",
      "\n",
      "e\n"
     ]
    }
   ],
   "source": [
    "#Halaman 4\n",
    "# Assign s as a string\n",
    "s = 'Hello World'\n",
    "# Print the object\n",
    "print(s)\n",
    "print()\n",
    "#Show first element (in this case a letter)\n",
    "print(s[0])\n",
    "print()\n",
    "#Show the second element (also a letter)\n",
    "print(s[1])"
   ]
  },
  {
   "cell_type": "code",
   "execution_count": 11,
   "id": "b8a0e534",
   "metadata": {},
   "outputs": [
    {
     "name": "stdout",
     "output_type": "stream",
     "text": [
      "Hello World\n"
     ]
    }
   ],
   "source": [
    "#Halaman 4\n",
    "#concatenation (addition)\n",
    "s1 = 'Hello'\n",
    "s2 = \"World\"\n",
    "print(s1 + \" \" + s2)"
   ]
  },
  {
   "cell_type": "code",
   "execution_count": 12,
   "id": "a2b5a39e",
   "metadata": {},
   "outputs": [
    {
     "name": "stdout",
     "output_type": "stream",
     "text": [
      "Hello_Hello_Hello_\n",
      "----------\n"
     ]
    }
   ],
   "source": [
    "#Halaman 5\n",
    "#repetition (multiplication)\n",
    "print(\"Hello_\" * 3)\n",
    "print(\"-\" * 10)"
   ]
  },
  {
   "cell_type": "code",
   "execution_count": 13,
   "id": "8e8eecb0",
   "metadata": {},
   "outputs": [
    {
     "name": "stdout",
     "output_type": "stream",
     "text": [
      "a\n",
      "e Wor\n",
      "Worl\n",
      "True\n"
     ]
    }
   ],
   "source": [
    "#Halaman 5\n",
    "s = \"Namaste World\"\n",
    "#print sub strings\n",
    "print(s[1]) #This is indexing.\n",
    "print(s[6:11]) #This is known as slicing.\n",
    "print(s[-5:-1])\n",
    "#test substring membership\n",
    "print(\"Wor\" in s)\n"
   ]
  },
  {
   "cell_type": "code",
   "execution_count": 15,
   "id": "2bc860d1",
   "metadata": {},
   "outputs": [
    {
     "name": "stdout",
     "output_type": "stream",
     "text": [
      "HELLO WORLD\n",
      "hello world\n"
     ]
    }
   ],
   "source": [
    "#Halaman 6\n",
    "s = \"Hello World\"\n",
    "print(s.upper()) ## Convert all the element of the string to Upper case..!!\n",
    "print(s.lower()) ## Convert all the element of the string to Lower case..!!"
   ]
  },
  {
   "cell_type": "code",
   "execution_count": 17,
   "id": "125225f9",
   "metadata": {},
   "outputs": [
    {
     "name": "stdout",
     "output_type": "stream",
     "text": [
      "My name is Einstein, my age is 22, and it is True that I am married\n",
      "My name is Einstein, my age is 22, and it is True that I am married\n"
     ]
    }
   ],
   "source": [
    "#Halaman 6\n",
    "name = \"Einstein\"\n",
    "age = 22\n",
    "married = True\n",
    "print(\"My name is %s, my age is %s, and it is %s that I am married\" % (name, age, married))\n",
    "print(\"My name is {}, my age is {}, and it is {} that I am married\".format(name, age, married))"
   ]
  },
  {
   "cell_type": "code",
   "execution_count": 18,
   "id": "3131c33e",
   "metadata": {},
   "outputs": [
    {
     "name": "stdout",
     "output_type": "stream",
     "text": [
      "3\n",
      "1\n",
      "4\n",
      "1.5\n"
     ]
    }
   ],
   "source": [
    "#Halaman 7\n",
    "#Types of numbers\n",
    "#Basic Arithmetic\n",
    "# Addition\n",
    "print(2+1)\n",
    "# Subtraction\n",
    "print(2-1)\n",
    "# Multiplication\n",
    "print(2*2)\n",
    "# Division\n",
    "print(3/2)"
   ]
  },
  {
   "cell_type": "code",
   "execution_count": 21,
   "id": "f49f6863",
   "metadata": {},
   "outputs": [
    {
     "data": {
      "text/plain": [
       "8"
      ]
     },
     "execution_count": 21,
     "metadata": {},
     "output_type": "execute_result"
    }
   ],
   "source": [
    "#Halaman 7\n",
    "#Types of numbers\n",
    "#Arithmetic continued\n",
    "#Powers\n",
    "2**3"
   ]
  },
  {
   "cell_type": "code",
   "execution_count": 22,
   "id": "e72daa9f",
   "metadata": {},
   "outputs": [
    {
     "data": {
      "text/plain": [
       "105"
      ]
     },
     "execution_count": 22,
     "metadata": {},
     "output_type": "execute_result"
    }
   ],
   "source": [
    "#Halaman 7\n",
    "#Types of numbers\n",
    "#Arithmetic continued\n",
    "#Order of Operations followed in Python\n",
    "2 + 10 * 10 + 3"
   ]
  },
  {
   "cell_type": "code",
   "execution_count": 23,
   "id": "886c2b15",
   "metadata": {},
   "outputs": [
    {
     "data": {
      "text/plain": [
       "156"
      ]
     },
     "execution_count": 23,
     "metadata": {},
     "output_type": "execute_result"
    }
   ],
   "source": [
    "#Halaman 8\n",
    "#Types of numbers\n",
    "#Arithmetic continued\n",
    "#Can use parenthesis to specify orders\n",
    "(2+10) * (10+3)"
   ]
  },
  {
   "cell_type": "code",
   "execution_count": 24,
   "id": "8e2232f2",
   "metadata": {},
   "outputs": [
    {
     "data": {
      "text/plain": [
       "10"
      ]
     },
     "execution_count": 24,
     "metadata": {},
     "output_type": "execute_result"
    }
   ],
   "source": [
    "#Halaman 8\n",
    "# Let's create an object called \"a\" and assign it the number 5\n",
    "a = 5\n",
    "\n",
    "# Adding the objects\n",
    "a+a\n"
   ]
  },
  {
   "cell_type": "code",
   "execution_count": 25,
   "id": "94c7ff29",
   "metadata": {},
   "outputs": [
    {
     "data": {
      "text/plain": [
       "10"
      ]
     },
     "execution_count": 25,
     "metadata": {},
     "output_type": "execute_result"
    }
   ],
   "source": [
    "#Halaman 8\n",
    "# Reassignment\n",
    "a = 10\n",
    "a"
   ]
  },
  {
   "cell_type": "code",
   "execution_count": null,
   "id": "debcffad",
   "metadata": {},
   "outputs": [],
   "source": []
  }
 ],
 "metadata": {
  "kernelspec": {
   "display_name": "Python 3 (ipykernel)",
   "language": "python",
   "name": "python3"
  },
  "language_info": {
   "codemirror_mode": {
    "name": "ipython",
    "version": 3
   },
   "file_extension": ".py",
   "mimetype": "text/x-python",
   "name": "python",
   "nbconvert_exporter": "python",
   "pygments_lexer": "ipython3",
   "version": "3.9.7"
  }
 },
 "nbformat": 4,
 "nbformat_minor": 5
}
