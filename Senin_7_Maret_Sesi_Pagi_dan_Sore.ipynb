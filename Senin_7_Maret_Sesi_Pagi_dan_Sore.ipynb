{
  "nbformat": 4,
  "nbformat_minor": 0,
  "metadata": {
    "colab": {
      "name": "Senin_7_Maret_Sesi Pagi dan Sore",
      "provenance": []
    },
    "kernelspec": {
      "name": "python3",
      "display_name": "Python 3"
    },
    "language_info": {
      "name": "python"
    }
  },
  "cells": [
    {
      "cell_type": "markdown",
      "source": [
        "Tugas Sesi Pagi\n",
        "\n",
        "Buatlah 3 OOP beserta turunannya dari objek sekitar, buat ulang seperti yang diatas (encapsulation, abstaction, inheritance, polymorphism)\n"
      ],
      "metadata": {
        "id": "wUj6BOo3fZa_"
      }
    },
    {
      "cell_type": "markdown",
      "source": [
        "Encapsulation"
      ],
      "metadata": {
        "id": "3TO42J_KgZ73"
      }
    },
    {
      "cell_type": "code",
      "source": [
        "merk= \"PCX\"\n",
        "warna= \"gray\"\n",
        "barang = \"Motor\"\n",
        "dayamaksimum = \"8500rpm\"\n",
        "\n",
        "def PCX():\n",
        "    print(\"brum brum....\")\n",
        "    \n",
        "def info_PCX(merk,warna,barang,dayamaksimum):\n",
        "    print(f\"merk: {merk}, warna: {warna}, barang :{barang}, dayamaksimum :{dayamaksimum}\") \n",
        "\n",
        "info_PCX(merk,warna,barang,dayamaksimum)\n",
        "PCX()"
      ],
      "metadata": {
        "colab": {
          "base_uri": "https://localhost:8080/"
        },
        "id": "xqP5pqmlgbIG",
        "outputId": "f61197a1-db76-4ca7-ffff-a993dc174488"
      },
      "execution_count": null,
      "outputs": [
        {
          "output_type": "stream",
          "name": "stdout",
          "text": [
            "merk: PCX, warna: gray, barang :Motor, dayamaksimum :8500rpm\n",
            "brum brum....\n"
          ]
        }
      ]
    },
    {
      "cell_type": "code",
      "source": [
        "class Motor(object):\n",
        "    \n",
        "    nama_motor = \"\"\n",
        "    def __init__(pcx, input_merk, input_warna, input_barang, input_dayamaksimum):\n",
        "        pcx.merk = input_merk\n",
        "        pcx.warna = input_warna\n",
        "        pcx.barang = input_barang\n",
        "        pcx.dayamaksimum = input_dayamaksimum\n",
        "        Motor.nama_motor = input_merk\n",
        "\n",
        "    def PCX(pcx):\n",
        "        print(\"Barang\", pcx.merk)\n",
        "\n",
        "    def info(pcx):\n",
        "        print(f\"merk: {pcx.merk}, warna: {pcx.warna}, barang: {pcx.barang}, dayamaksimum :{pcx.dayamaksimum}\")\n",
        "\n",
        "\n",
        "motor1 = Motor(\"Honda-PCX\", \"Gray\", \"Motor\", \"8500rpm\")\n",
        "\n",
        "motor1.info()\n",
        "motor1.PCX()"
      ],
      "metadata": {
        "colab": {
          "base_uri": "https://localhost:8080/"
        },
        "id": "C_uHm2cdiu6u",
        "outputId": "c5dbbcac-b67c-437b-c749-f5c38417b8cf"
      },
      "execution_count": null,
      "outputs": [
        {
          "output_type": "stream",
          "name": "stdout",
          "text": [
            "merk: Honda-PCX, warna: Gray, barang: Motor, dayamaksimum :8500rpm\n",
            "Barang Honda-PCX\n"
          ]
        }
      ]
    },
    {
      "cell_type": "code",
      "source": [
        "motor1.info()"
      ],
      "metadata": {
        "colab": {
          "base_uri": "https://localhost:8080/"
        },
        "id": "LtkcMWoKkpQ1",
        "outputId": "3d1299c4-d24d-46a1-d05b-7f7a7c4d7bff"
      },
      "execution_count": null,
      "outputs": [
        {
          "output_type": "stream",
          "name": "stdout",
          "text": [
            "merk: Honda-PCX, warna: Gray, barang: Motor, dayamaksimum :8500rpm\n"
          ]
        }
      ]
    },
    {
      "cell_type": "markdown",
      "source": [
        "Abstaction\n"
      ],
      "metadata": {
        "id": "xKoz5p8Hk7Sw"
      }
    },
    {
      "cell_type": "code",
      "source": [
        "from abc import abstractmethod, ABC"
      ],
      "metadata": {
        "id": "iVUpaiiMlm3B"
      },
      "execution_count": null,
      "outputs": []
    },
    {
      "cell_type": "code",
      "source": [
        "class Motor(ABC):\n",
        "    \n",
        "    @abstractmethod\n",
        "    def caramengemudi(self):\n",
        "        pass\n",
        "    \n",
        "class PCX(Motor):\n",
        "    def caramengemudi(self):\n",
        "        print(\"Mobil ini bisa digunakan untuk Drag, Harian, maupun Drift.\\n\")\n",
        "        \n",
        "class Aerox(Motor):\n",
        "    def caramengemudi(self):\n",
        "        print(\"Mobil ini dapat digunakan untuk harian namun lebih sering digunakan untuk ajang drift.\")"
      ],
      "metadata": {
        "id": "RV6gPgffn_6c"
      },
      "execution_count": null,
      "outputs": []
    },
    {
      "cell_type": "code",
      "source": [
        "pcx1=PCX()\n",
        "aerox1=Aerox()\n",
        "\n",
        "pcx1.caramengemudi()\n",
        "aerox1.caramengemudi()"
      ],
      "metadata": {
        "colab": {
          "base_uri": "https://localhost:8080/"
        },
        "id": "0pmQLzR_r2LH",
        "outputId": "b51d1d39-c46b-4d3b-fd5a-5c0d428aa22b"
      },
      "execution_count": null,
      "outputs": [
        {
          "output_type": "stream",
          "name": "stdout",
          "text": [
            "Mobil ini bisa digunakan untuk Drag, Harian, maupun Drift.\n",
            "\n",
            "Mobil ini dapat digunakan untuk harian namun lebih sering digunakan untuk ajang drift.\n"
          ]
        }
      ]
    },
    {
      "cell_type": "markdown",
      "source": [
        "Inheritance"
      ],
      "metadata": {
        "id": "UC5FMeGYsa30"
      }
    },
    {
      "cell_type": "code",
      "source": [
        "class Motor(object):\n",
        "    \n",
        "    def __init__(mtr, input_merk, input_mesin, input_tahun, input_dayamaksimum):\n",
        "        mtr.merk = input_merk\n",
        "        mtr.mesin = input_mesin\n",
        "        mtr.tahun = input_tahun\n",
        "        mtr.dayamaksimum=input_dayamaksimum\n",
        "\n",
        "    def jm(mtr, mot):\n",
        "        for x in range(mot):\n",
        "            print(\" 6inline\")\n",
        "\n",
        "    def info(mtr):\n",
        "        print(f\"merk: {mtr.merk}, mesin: {mtr.mesin}, tahun :{mtr.tahun}, dayamaksimum :{mtr.dayamaksimum}\")\n",
        "\n",
        "\n",
        "motor1 = Motor(\"PCX-160\", \"4-Valve\", \"2021\", \"8500rpm\")\n",
        "\n",
        "motor1.info()"
      ],
      "metadata": {
        "colab": {
          "base_uri": "https://localhost:8080/"
        },
        "id": "ouqyP77zsdYZ",
        "outputId": "695e8e2f-5bbb-4f10-a708-c1437633a2a9"
      },
      "execution_count": 3,
      "outputs": [
        {
          "output_type": "stream",
          "name": "stdout",
          "text": [
            "merk: PCX-160, mesin: 4-Valve, tahun :2021, dayamaksimum :8500rpm\n"
          ]
        }
      ]
    },
    {
      "cell_type": "markdown",
      "source": [
        "Custom module"
      ],
      "metadata": {
        "id": "QaYQzhezt2wO"
      }
    },
    {
      "cell_type": "markdown",
      "source": [
        "Polymorphism"
      ],
      "metadata": {
        "id": "dqfkFFOqt6vj"
      }
    },
    {
      "cell_type": "code",
      "source": [
        "import motor as mot"
      ],
      "metadata": {
        "id": "I39pukvot_c-"
      },
      "execution_count": null,
      "outputs": []
    },
    {
      "cell_type": "code",
      "source": [
        "class motor(object):\n",
        "    def __init__(self, jenis, tahun, mesin):\n",
        "        self.jenis = jenis\n",
        "        self.tahun = tahun\n",
        "        self.mesin = mesin\n",
        "    \n",
        "    def h(self, durasi):\n",
        "        for i in range(durasi):\n",
        "            print(\"jenis \")\n",
        "            \n",
        "    def info(self):\n",
        "        print(f\"jenis: {self.jenis}\\nTahun: {self.tahun}\\nMesin: {self.mesin}\")\n",
        "\n",
        "        \n",
        "class PCX(motor):\n",
        "    def __init__(self, jenis, tahun, mesin, keturunan):\n",
        "        super().__init__(jenis, tahun, mesin)\n",
        "        self.keturunan= keturunan\n",
        "        \n",
        "        \n",
        "    def ab(self, durasi):\n",
        "        for i in range(durasi):\n",
        "            print(\"brumbrumbrum...\")\n",
        "\n",
        "motor1 = Motor(\"PCX-160\", \"2021\", \"4-Valve\", \"V-Matic\")\n",
        "\n",
        "motor1.info()"
      ],
      "metadata": {
        "id": "-gdgh1g_uFDZ",
        "colab": {
          "base_uri": "https://localhost:8080/"
        },
        "outputId": "764951a1-bef8-410a-daa4-734dcf81eaef"
      },
      "execution_count": 5,
      "outputs": [
        {
          "output_type": "stream",
          "name": "stdout",
          "text": [
            "merk: PCX-160, mesin: 2021, tahun :4-Valve, dayamaksimum :V-Matic\n"
          ]
        }
      ]
    },
    {
      "cell_type": "markdown",
      "source": [
        "Inhertiance"
      ],
      "metadata": {
        "id": "jUsX-M72AohH"
      }
    },
    {
      "cell_type": "code",
      "source": [
        "motor1 = Motor(\"PCX-160\", \"4-Valve\", \"2021\", \"8500rpm\")\n",
        "\n",
        "motor1.info()"
      ],
      "metadata": {
        "colab": {
          "base_uri": "https://localhost:8080/"
        },
        "id": "y8lS0mLq_mX8",
        "outputId": "56a43ccd-ab80-48c0-8d7b-09acaf2642df"
      },
      "execution_count": 6,
      "outputs": [
        {
          "output_type": "stream",
          "name": "stdout",
          "text": [
            "merk: PCX-160, mesin: 4-Valve, tahun :2021, dayamaksimum :8500rpm\n"
          ]
        }
      ]
    },
    {
      "cell_type": "markdown",
      "source": [
        "Encapsulation"
      ],
      "metadata": {
        "id": "aDBQDaW9AvNl"
      }
    },
    {
      "cell_type": "code",
      "source": [
        "info_PCX(\"PCX\", \"gray\", \"Motor\", \"8500rpm\")\n",
        "PCX()"
      ],
      "metadata": {
        "colab": {
          "base_uri": "https://localhost:8080/"
        },
        "id": "bSqY9hf_Axzt",
        "outputId": "4df57bd1-5d90-407c-8654-421ed198db2d"
      },
      "execution_count": 10,
      "outputs": [
        {
          "output_type": "stream",
          "name": "stdout",
          "text": [
            "merk: PCX, warna: gray, barang :Motor, dayamaksimum :8500rpm\n",
            "brum brum....\n"
          ]
        }
      ]
    }
  ]
}