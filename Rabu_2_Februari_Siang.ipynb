{
  "nbformat": 4,
  "nbformat_minor": 0,
  "metadata": {
    "colab": {
      "name": "Rabu_2_Februari_Siang.ipynb",
      "provenance": []
    },
    "kernelspec": {
      "name": "python3",
      "display_name": "Python 3"
    },
    "language_info": {
      "name": "python"
    }
  },
  "cells": [
    {
      "cell_type": "markdown",
      "source": [
        "Nomor 1"
      ],
      "metadata": {
        "id": "PId9TcaiDeXT"
      }
    },
    {
      "cell_type": "code",
      "source": [
        "def divisible (m,n):\n",
        "    if (m % n == 0):\n",
        "        return True\n",
        "\n",
        "    else :\n",
        "        return False\n",
        "\n",
        "print(divisible(60,12))\n",
        "print(divisible(45,7))"
      ],
      "metadata": {
        "colab": {
          "base_uri": "https://localhost:8080/"
        },
        "id": "6Qa-7lZ3Df4I",
        "outputId": "05414439-2ae2-4368-89d0-f29476cbd76f"
      },
      "execution_count": null,
      "outputs": [
        {
          "output_type": "stream",
          "name": "stdout",
          "text": [
            "True\n",
            "False\n"
          ]
        }
      ]
    },
    {
      "cell_type": "markdown",
      "source": [
        "Nomor 2"
      ],
      "metadata": {
        "id": "5ClGrjluEM-E"
      }
    },
    {
      "cell_type": "code",
      "source": [
        "def main_menu():\n",
        "    print(\"Welcome To Sunshine Cafe\")\n",
        "    print('-'*20)\n",
        "    print('-'*10, \"MAIN MENU\",'-'*10)\n",
        "    print(\" 1. Onion Ring \")\n",
        "    print(\" 2. Chicken Fingers \")\n",
        "    print(\" 3. Potato Wedges \")\n",
        "    print('-'*20)\n",
        "    number = input(\" What number do you want to order? \")\n",
        "    if number == '1':\n",
        "        print('a portion of Onion Rings coming soon!')\n",
        "    elif number == '2':\n",
        "        print('a portion of Chicken Fingers coming soon!')\n",
        "    elif number == '3':\n",
        "        print('a portion of Potato Wedges coming soon!')\n",
        "    else :\n",
        "        print('sorry, this menu is not available')\n",
        "# main program\n",
        "if __name__=='__main__':\n",
        "    main_menu()"
      ],
      "metadata": {
        "colab": {
          "base_uri": "https://localhost:8080/"
        },
        "id": "HNoXhbf3EO58",
        "outputId": "9eba4261-0a60-492e-97a9-b0a579b568ca"
      },
      "execution_count": null,
      "outputs": [
        {
          "output_type": "stream",
          "name": "stdout",
          "text": [
            "Welcome To Sunshine Cafe\n",
            "--------------------\n",
            "---------- MAIN MENU ----------\n",
            " 1. Onion Ring \n",
            " 2. Chicken Fingers \n",
            " 3. Potato Wedges \n",
            "--------------------\n",
            " What number do you want to order? 4\n",
            "sorry, this menu is not available\n"
          ]
        }
      ]
    },
    {
      "cell_type": "markdown",
      "source": [
        "Nomor 3\n"
      ],
      "metadata": {
        "id": "xd55TG5yfdNC"
      }
    },
    {
      "cell_type": "code",
      "source": [
        "def rand_divis_3 ():\n",
        "    x=int(input(\"Masukkan bilangan: \"))\n",
        "    \n",
        "    if (x % 3 == 0):\n",
        "        return True\n",
        "\n",
        "    else :\n",
        "        return False\n",
        "print(rand_divis_3())"
      ],
      "metadata": {
        "colab": {
          "base_uri": "https://localhost:8080/"
        },
        "id": "aNmM89ViffLy",
        "outputId": "337d5d04-c299-4e28-b1c3-fabfd6f28076"
      },
      "execution_count": 2,
      "outputs": [
        {
          "output_type": "stream",
          "name": "stdout",
          "text": [
            "Masukkan bilangan: 12\n",
            "True\n"
          ]
        }
      ]
    },
    {
      "cell_type": "markdown",
      "source": [
        "Nomor 4"
      ],
      "metadata": {
        "id": "fERMu4vQg0oY"
      }
    },
    {
      "cell_type": "code",
      "source": [
        "1 != 1"
      ],
      "metadata": {
        "colab": {
          "base_uri": "https://localhost:8080/"
        },
        "id": "OlF6EiBVg2eU",
        "outputId": "02e8c6ff-73e8-4950-aaac-53652214c5ff"
      },
      "execution_count": 3,
      "outputs": [
        {
          "output_type": "execute_result",
          "data": {
            "text/plain": [
              "False"
            ]
          },
          "metadata": {},
          "execution_count": 3
        }
      ]
    },
    {
      "cell_type": "code",
      "source": [
        "def not_equal(x,y):\n",
        "    if (x != y):\n",
        "        return True\n",
        "    else :\n",
        "        return False\n",
        "print(not_equal(7,3))"
      ],
      "metadata": {
        "colab": {
          "base_uri": "https://localhost:8080/"
        },
        "id": "c9xlAVTihDUg",
        "outputId": "898f3926-2d61-48d5-b752-783eb5a4162b"
      },
      "execution_count": 8,
      "outputs": [
        {
          "output_type": "stream",
          "name": "stdout",
          "text": [
            "True\n"
          ]
        }
      ]
    },
    {
      "cell_type": "code",
      "source": [
        "def not_equal(x,y):\n",
        "    if (not (x == y)):\n",
        "        return True\n",
        "    else :\n",
        "        return False\n",
        "print(not_equal(7,3))"
      ],
      "metadata": {
        "colab": {
          "base_uri": "https://localhost:8080/"
        },
        "id": "BR80nWw3hasD",
        "outputId": "5f7b7d5a-4315-4a20-bed9-a419c6b92e61"
      },
      "execution_count": 9,
      "outputs": [
        {
          "output_type": "stream",
          "name": "stdout",
          "text": [
            "True\n"
          ]
        }
      ]
    },
    {
      "cell_type": "markdown",
      "source": [
        "Nomor 5"
      ],
      "metadata": {
        "id": "L3UZFVhiho8g"
      }
    },
    {
      "cell_type": "code",
      "source": [
        "def ask_name():\n",
        "    name = input(\"Enter your name: \")\n",
        "\n",
        "ask_name()\n",
        "print(\"Your name is\", name)"
      ],
      "metadata": {
        "colab": {
          "base_uri": "https://localhost:8080/",
          "height": 217
        },
        "id": "0bavvvH9hrBw",
        "outputId": "795f8ea1-cec4-4ee9-97bb-b63f3de386d9"
      },
      "execution_count": 10,
      "outputs": [
        {
          "name": "stdout",
          "output_type": "stream",
          "text": [
            "Enter your name: ilfa\n"
          ]
        },
        {
          "output_type": "error",
          "ename": "NameError",
          "evalue": "ignored",
          "traceback": [
            "\u001b[0;31m---------------------------------------------------------------------------\u001b[0m",
            "\u001b[0;31mNameError\u001b[0m                                 Traceback (most recent call last)",
            "\u001b[0;32m<ipython-input-10-35bee748c4ab>\u001b[0m in \u001b[0;36m<module>\u001b[0;34m()\u001b[0m\n\u001b[1;32m      3\u001b[0m \u001b[0;34m\u001b[0m\u001b[0m\n\u001b[1;32m      4\u001b[0m \u001b[0mask_name\u001b[0m\u001b[0;34m(\u001b[0m\u001b[0;34m)\u001b[0m\u001b[0;34m\u001b[0m\u001b[0;34m\u001b[0m\u001b[0m\n\u001b[0;32m----> 5\u001b[0;31m \u001b[0mprint\u001b[0m\u001b[0;34m(\u001b[0m\u001b[0;34m\"Your name is\"\u001b[0m\u001b[0;34m,\u001b[0m \u001b[0mname\u001b[0m\u001b[0;34m)\u001b[0m\u001b[0;34m\u001b[0m\u001b[0;34m\u001b[0m\u001b[0m\n\u001b[0m",
            "\u001b[0;31mNameError\u001b[0m: name 'name' is not defined"
          ]
        }
      ]
    },
    {
      "cell_type": "code",
      "source": [
        "name = input (\"Enter your name:\")\n",
        "print (\"You your name is :\", name)"
      ],
      "metadata": {
        "colab": {
          "base_uri": "https://localhost:8080/"
        },
        "id": "JSB5Bf2klOwR",
        "outputId": "0b2a41e8-7244-4008-afb4-00da52d67934"
      },
      "execution_count": 29,
      "outputs": [
        {
          "output_type": "stream",
          "name": "stdout",
          "text": [
            "Enter your name:ilfa\n",
            "You your name is : ilfa\n"
          ]
        }
      ]
    }
  ]
}