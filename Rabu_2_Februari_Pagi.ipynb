{
  "nbformat": 4,
  "nbformat_minor": 0,
  "metadata": {
    "colab": {
      "name": "Rabu_2_Februari_Sesi Pagi.ipynb",
      "provenance": []
    },
    "kernelspec": {
      "name": "python3",
      "display_name": "Python 3"
    },
    "language_info": {
      "name": "python"
    }
  },
  "cells": [
    {
      "cell_type": "markdown",
      "source": [
        "Nomor 1"
      ],
      "metadata": {
        "id": "TARCMW6BoMUI"
      }
    },
    {
      "cell_type": "code",
      "source": [
        "a = False\n",
        "b = True\n",
        "c = False\n",
        "\n",
        "(b and c)"
      ],
      "metadata": {
        "colab": {
          "base_uri": "https://localhost:8080/"
        },
        "id": "mScOlUWKnZIg",
        "outputId": "ea43ccb8-34d1-428b-8048-6359f545c77c"
      },
      "execution_count": 2,
      "outputs": [
        {
          "output_type": "execute_result",
          "data": {
            "text/plain": [
              "False"
            ]
          },
          "metadata": {},
          "execution_count": 2
        }
      ]
    },
    {
      "cell_type": "code",
      "source": [
        "b or c"
      ],
      "metadata": {
        "colab": {
          "base_uri": "https://localhost:8080/"
        },
        "id": "AlBcG4iUng3q",
        "outputId": "68fdc97c-b71a-4190-ebe9-b1733c1bf030"
      },
      "execution_count": 3,
      "outputs": [
        {
          "output_type": "execute_result",
          "data": {
            "text/plain": [
              "True"
            ]
          },
          "metadata": {},
          "execution_count": 3
        }
      ]
    },
    {
      "cell_type": "code",
      "source": [
        "not a and b"
      ],
      "metadata": {
        "colab": {
          "base_uri": "https://localhost:8080/"
        },
        "id": "IlWvBz95nreN",
        "outputId": "22fd6ed5-26f8-4f74-e872-f79f2ef5e9c3"
      },
      "execution_count": 4,
      "outputs": [
        {
          "output_type": "execute_result",
          "data": {
            "text/plain": [
              "True"
            ]
          },
          "metadata": {},
          "execution_count": 4
        }
      ]
    },
    {
      "cell_type": "code",
      "source": [
        "(a and b) or not c"
      ],
      "metadata": {
        "colab": {
          "base_uri": "https://localhost:8080/"
        },
        "id": "_9yKg-EGn2Cr",
        "outputId": "b32c68b0-c21c-405b-d2b6-7b9bef5539e7"
      },
      "execution_count": 5,
      "outputs": [
        {
          "output_type": "execute_result",
          "data": {
            "text/plain": [
              "True"
            ]
          },
          "metadata": {},
          "execution_count": 5
        }
      ]
    },
    {
      "cell_type": "code",
      "source": [
        "(a and b) or not c"
      ],
      "metadata": {
        "colab": {
          "base_uri": "https://localhost:8080/"
        },
        "id": "91TpfFRTn5zi",
        "outputId": "6e36dc12-099d-4715-85e1-07cc82de9abe"
      },
      "execution_count": 6,
      "outputs": [
        {
          "output_type": "execute_result",
          "data": {
            "text/plain": [
              "True"
            ]
          },
          "metadata": {},
          "execution_count": 6
        }
      ]
    },
    {
      "cell_type": "markdown",
      "source": [
        "Nomor 2\n"
      ],
      "metadata": {
        "id": "lJ3YjFiYoV8R"
      }
    },
    {
      "cell_type": "code",
      "source": [
        "print (Hello!)\n",
        "something == input ('Enter something: )\n",
        "print ('You entered:' something)"
      ],
      "metadata": {
        "colab": {
          "base_uri": "https://localhost:8080/",
          "height": 130
        },
        "id": "jKpHvUc5oCKq",
        "outputId": "03bc4037-3bb4-419d-b8b2-6ae0b10428a8"
      },
      "execution_count": 7,
      "outputs": [
        {
          "output_type": "error",
          "ename": "SyntaxError",
          "evalue": "ignored",
          "traceback": [
            "\u001b[0;36m  File \u001b[0;32m\"<ipython-input-7-854d3186261d>\"\u001b[0;36m, line \u001b[0;32m1\u001b[0m\n\u001b[0;31m    print (Hello!)\u001b[0m\n\u001b[0m                ^\u001b[0m\n\u001b[0;31mSyntaxError\u001b[0m\u001b[0;31m:\u001b[0m invalid syntax\n"
          ]
        }
      ]
    },
    {
      "cell_type": "code",
      "source": [
        "something = input (\"Enter something:\")\n",
        "print (\"Hello!\")\n",
        "print (\"You entered :\", something)"
      ],
      "metadata": {
        "colab": {
          "base_uri": "https://localhost:8080/"
        },
        "id": "TozufBayoqAm",
        "outputId": "e2714b07-929a-4fc7-877a-43b3343c8501"
      },
      "execution_count": 8,
      "outputs": [
        {
          "output_type": "stream",
          "name": "stdout",
          "text": [
            "Enter something:Balon\n",
            "Hello!\n",
            "You entered : Balon\n"
          ]
        }
      ]
    },
    {
      "cell_type": "markdown",
      "source": [
        "Nomor 3"
      ],
      "metadata": {
        "id": "m230R7K6o7wP"
      }
    },
    {
      "cell_type": "code",
      "source": [
        "print('Hello!')\n",
        "something = input(\"Enter something: \")\n",
        "if something = 'hello':\n",
        "    print(\"Hello for you too!\")\n",
        "\n",
        "elif something = 'hi'\n",
        "    print('Hi there!')\n",
        "else:\n",
        "    print(\"I don't know what,\" something,\"means.\")"
      ],
      "metadata": {
        "colab": {
          "base_uri": "https://localhost:8080/",
          "height": 130
        },
        "id": "dJmPh6FLpAW6",
        "outputId": "20c9fa3b-1559-4969-f3fb-237ece7661f1"
      },
      "execution_count": 9,
      "outputs": [
        {
          "output_type": "error",
          "ename": "SyntaxError",
          "evalue": "ignored",
          "traceback": [
            "\u001b[0;36m  File \u001b[0;32m\"<ipython-input-9-a5fb56574249>\"\u001b[0;36m, line \u001b[0;32m3\u001b[0m\n\u001b[0;31m    if something = 'hello':\u001b[0m\n\u001b[0m                 ^\u001b[0m\n\u001b[0;31mSyntaxError\u001b[0m\u001b[0;31m:\u001b[0m invalid syntax\n"
          ]
        }
      ]
    },
    {
      "cell_type": "code",
      "source": [
        "print('Hello!')\n",
        "something = input(\"Enter something: \")\n",
        "if something == 'hello':\n",
        "    print(\"Hello for you too!\")\n",
        "\n",
        "elif something == 'hi':\n",
        "    print(\"Hi there!\")\n",
        "\n",
        "else:\n",
        "    print(\"I don't know what\", something, \"means.\")"
      ],
      "metadata": {
        "colab": {
          "base_uri": "https://localhost:8080/"
        },
        "id": "cQYufs5HpG9c",
        "outputId": "21582192-2e8a-446a-9540-ca68859d8bb6"
      },
      "execution_count": 14,
      "outputs": [
        {
          "output_type": "stream",
          "name": "stdout",
          "text": [
            "Hello!\n",
            "Enter something: hi\n",
            "Hi there!\n"
          ]
        }
      ]
    },
    {
      "cell_type": "markdown",
      "source": [
        "Nomor 4\n"
      ],
      "metadata": {
        "id": "ZW_DOkFgpsgT"
      }
    },
    {
      "cell_type": "code",
      "source": [
        "for x in range(100):\n",
        "    print(\"halo hai\")"
      ],
      "metadata": {
        "colab": {
          "base_uri": "https://localhost:8080/"
        },
        "id": "tOkw8uappulW",
        "outputId": "f1fe96f4-c43c-4c6c-be33-296b50a6fd06"
      },
      "execution_count": 15,
      "outputs": [
        {
          "output_type": "stream",
          "name": "stdout",
          "text": [
            "halo hai\n",
            "halo hai\n",
            "halo hai\n",
            "halo hai\n",
            "halo hai\n",
            "halo hai\n",
            "halo hai\n",
            "halo hai\n",
            "halo hai\n",
            "halo hai\n",
            "halo hai\n",
            "halo hai\n",
            "halo hai\n",
            "halo hai\n",
            "halo hai\n",
            "halo hai\n",
            "halo hai\n",
            "halo hai\n",
            "halo hai\n",
            "halo hai\n",
            "halo hai\n",
            "halo hai\n",
            "halo hai\n",
            "halo hai\n",
            "halo hai\n",
            "halo hai\n",
            "halo hai\n",
            "halo hai\n",
            "halo hai\n",
            "halo hai\n",
            "halo hai\n",
            "halo hai\n",
            "halo hai\n",
            "halo hai\n",
            "halo hai\n",
            "halo hai\n",
            "halo hai\n",
            "halo hai\n",
            "halo hai\n",
            "halo hai\n",
            "halo hai\n",
            "halo hai\n",
            "halo hai\n",
            "halo hai\n",
            "halo hai\n",
            "halo hai\n",
            "halo hai\n",
            "halo hai\n",
            "halo hai\n",
            "halo hai\n",
            "halo hai\n",
            "halo hai\n",
            "halo hai\n",
            "halo hai\n",
            "halo hai\n",
            "halo hai\n",
            "halo hai\n",
            "halo hai\n",
            "halo hai\n",
            "halo hai\n",
            "halo hai\n",
            "halo hai\n",
            "halo hai\n",
            "halo hai\n",
            "halo hai\n",
            "halo hai\n",
            "halo hai\n",
            "halo hai\n",
            "halo hai\n",
            "halo hai\n",
            "halo hai\n",
            "halo hai\n",
            "halo hai\n",
            "halo hai\n",
            "halo hai\n",
            "halo hai\n",
            "halo hai\n",
            "halo hai\n",
            "halo hai\n",
            "halo hai\n",
            "halo hai\n",
            "halo hai\n",
            "halo hai\n",
            "halo hai\n",
            "halo hai\n",
            "halo hai\n",
            "halo hai\n",
            "halo hai\n",
            "halo hai\n",
            "halo hai\n",
            "halo hai\n",
            "halo hai\n",
            "halo hai\n",
            "halo hai\n",
            "halo hai\n",
            "halo hai\n",
            "halo hai\n",
            "halo hai\n",
            "halo hai\n",
            "halo hai\n"
          ]
        }
      ]
    },
    {
      "cell_type": "markdown",
      "source": [
        "Nomor 5 a"
      ],
      "metadata": {
        "id": "aaN95XeAsRbI"
      }
    },
    {
      "cell_type": "markdown",
      "source": [
        "![tabel.png](data:image/png;base64,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)"
      ],
      "metadata": {
        "id": "_uE4kG-TsVcq"
      }
    },
    {
      "cell_type": "markdown",
      "source": [
        "Nomor 5 b\n"
      ],
      "metadata": {
        "id": "uIl0KOu2tNyi"
      }
    },
    {
      "cell_type": "code",
      "source": [
        "print(\"Game Suit!\")\n",
        "Player1 = input(\"Masukkan player 1: \")\n",
        "Player2 = input(\"Masukkan player 2: \")\n",
        "if (Player1 == 'batu') and (Player2 == 'gunting'):\n",
        "    print(\"player 1 wins!\")\n",
        "\n",
        "elif (Player1 == 'gunting') and (Player2 == 'gunting'):\n",
        "    print(\"seri!\")\n",
        "    \n",
        "elif (Player1 == 'kertas') and (Player2 == 'gunting'):\n",
        "    print(\"Player 2 wins!\")\n",
        "    \n",
        "elif (Player1 == 'batu') and (Player2 == 'kertas'):\n",
        "    print(\"player 2 wins!\")\n",
        "    \n",
        "elif (Player1 == 'kertas') and (Player2 == 'kertas'):\n",
        "    print(\"seri!\")\n",
        "    \n",
        "elif (Player1 == 'gunting') and (Player2 == 'kertas'):\n",
        "    print(\"Player 1 Wins!\")\n",
        "    \n",
        "elif (Player1 == 'batu') and (Player2 == 'batu'):\n",
        "    print(\"Seri!\")\n",
        "    \n",
        "elif (Player1 == 'gunting') and (Player2 == 'batu'):\n",
        "    print(\"Player 2 Wins!\")\n",
        "    \n",
        "elif (Player1 == 'kertas') and (Player2 == 'batu'):\n",
        "    print(\"Player 1 Wins!\")\n",
        "else:\n",
        "    print(\"Input tidak valid!. Gunakan “batu”, “ gunting” dan “kertas” tanpa tanda kutip!\")"
      ],
      "metadata": {
        "colab": {
          "base_uri": "https://localhost:8080/"
        },
        "id": "I48cu0KztPwx",
        "outputId": "e79731df-b0bb-470c-b6a1-311cefc8e55c"
      },
      "execution_count": 16,
      "outputs": [
        {
          "output_type": "stream",
          "name": "stdout",
          "text": [
            "Game Suit!\n",
            "Masukkan player 1: gunting\n",
            "Masukkan player 2: batu\n",
            "Player 2 Wins!\n"
          ]
        }
      ]
    },
    {
      "cell_type": "markdown",
      "source": [
        "Nomor 6"
      ],
      "metadata": {
        "id": "5btNE3b4w5X0"
      }
    },
    {
      "cell_type": "code",
      "source": [
        "while True:\n",
        "    kata = input('Masukkan angka: ')\n",
        "    if kata == 'stop':\n",
        "        break\n",
        "print('Perulangan Berakhir')"
      ],
      "metadata": {
        "colab": {
          "base_uri": "https://localhost:8080/"
        },
        "id": "EP9khfiOw7k9",
        "outputId": "6b892171-47b3-4c77-c619-65dca7c0e71c"
      },
      "execution_count": 18,
      "outputs": [
        {
          "output_type": "stream",
          "name": "stdout",
          "text": [
            "Masukkan angka: 1\n",
            "Masukkan angka: 2\n",
            "Masukkan angka: 3\n",
            "Masukkan angka: 4\n",
            "Masukkan angka: 5\n",
            "Masukkan angka: stop\n",
            "Perulangan Berakhir\n"
          ]
        }
      ]
    },
    {
      "cell_type": "markdown",
      "source": [
        "Nomor 7"
      ],
      "metadata": {
        "id": "xedEH4omxXIa"
      }
    },
    {
      "cell_type": "code",
      "source": [
        "while True :\n",
        "    print (\" Daftar Menu : \")\n",
        "    print (\" 1. Nasi Goreng - Rp. 12.000 \")\n",
        "    print (\" 2. Ayam Geprek - Rp. 15.000 \")\n",
        "    print (\" 3. Kentang Goreng - Rp. 8.000 \")\n",
        "    print (\"------------------------------\")\n",
        "    pilihMenu = input(\"Masukkan Menu : \")\n",
        "    if pilihMenu == '1':\n",
        "        print(\"Kamu telah memesan Nasi Goreng dengan harga Rp. 12.000\")\n",
        "    elif pilihMenu == '2':\n",
        "        print(\"Kamu telah memesan Ayam Geprek dengan harga Rp. 15.000\")\n",
        "    elif pilihMenu == '3' :\n",
        "        print(\"Kamu telah memesan Kentang Goreng dengan harga Rp. 8.000\")\n",
        "    else:\n",
        "        print(\"Menu tidak tersedia\")\n",
        "    \n",
        "    tambahan = input (\"Apakah ada tambahan lagi ? \")\n",
        "    if tambahan == 'cukup':\n",
        "            break\n",
        "print(\"Terima kasih sudah memesan menu kami, silahkan ditunggu!\")\n",
        "\n",
        "\n",
        "\n",
        "  "
      ],
      "metadata": {
        "colab": {
          "base_uri": "https://localhost:8080/"
        },
        "id": "IJihTC2VxY9G",
        "outputId": "e79b2577-b688-4073-d9f8-da17ce9bc12b"
      },
      "execution_count": 24,
      "outputs": [
        {
          "output_type": "stream",
          "name": "stdout",
          "text": [
            " Daftar Menu : \n",
            " 1. Nasi Goreng - Rp. 12.000 \n",
            " 2. Ayam Geprek - Rp. 15.000 \n",
            " 3. Kentang Goreng - Rp. 8.000 \n",
            "------------------------------\n",
            "Masukkan Menu : 2\n",
            "Kamu telah memesan Ayam Geprek dengan harga Rp. 15.000\n",
            "Apakah ada tambahan lagi ? cukup\n",
            "Terima kasih sudah memesan menu kami, silahkan ditunggu!\n"
          ]
        }
      ]
    },
    {
      "cell_type": "markdown",
      "source": [
        "Nomor 8"
      ],
      "metadata": {
        "id": "c-_pS6i93YlC"
      }
    },
    {
      "cell_type": "code",
      "source": [
        "while True :\n",
        "    print (\" Daftar Menu : \")\n",
        "    print (\" 1. Nasi Goreng - Rp. 12.000 \")\n",
        "    print (\" 2. Ayam Geprek - Rp. 15.000 \")\n",
        "    print (\" 3. Kentang Goreng - Rp. 8.000 \")\n",
        "    print (\"------------------------------\")\n",
        "    pilihMenu = input(\"Masukkan Menu : \")\n",
        "    \n",
        "    if pilihMenu == '1':\n",
        "        print(\"Kamu telah memesan Nasi Goreng dengan harga Rp. 12.000\")\n",
        "        nasgor = int(input(\"Berapa porsi Nasi Goreng yang ingin dipesan? \"))\n",
        "        hargaNasgor = 12000\n",
        "        total = (hargaNasgor*nasgor)\n",
        "        print (\"Total Bayar = Rp.\", total)\n",
        "        bayar = int(input(\"Uang Bayar = Rp. \"))\n",
        "        print (\"Kembalian = Rp.\", bayar-total)\n",
        "        print (\"------------------------------\")\n",
        "        \n",
        "    elif pilihMenu == '2':\n",
        "        print(\"Kamu telah memesan Ayam Geprek dengan harga Rp. 15.000\")\n",
        "        aygep = int(input(\"Berapa porsi Ayam Geprek yang ingin dipesan? \"))\n",
        "        hargaAygep = 15000\n",
        "        total = (hargaAygep*aygep)\n",
        "        print (\"Total Bayar = Rp.\", total)\n",
        "        bayar = int(input(\"Uang Bayar = Rp. \"))\n",
        "        print (\"Kembalian = Rp.\", bayar-total)\n",
        "        print (\"------------------------------\")\n",
        "        \n",
        "    elif pilihMenu == '3' :\n",
        "        print(\"Kamu telah memesan Kentang Goreng dengan harga Rp. 8.000\")\n",
        "        kengor = int(input(\"Berapa porsi Kentang Goreng yang ingin dipesan? \"))\n",
        "        hargaKengor = 8000\n",
        "        total = (hargaKengor*kengor)\n",
        "        print (\"Total Bayar = Rp.\", total)\n",
        "        bayar = int(input(\"Uang Bayar = Rp. \"))\n",
        "        print (\"Kembalian = Rp.\", bayar-total)\n",
        "        print (\"------------------------------\")\n",
        "        \n",
        "    else:\n",
        "        print(\"Menu tidak tersedia\")\n",
        "    \n",
        "    tambahan = input (\"Masukkan Tambahan : \")\n",
        "    if tambahan == 'cukup':\n",
        "            break\n",
        "            \n",
        "print(\"Terima kasih sudah memesan menu kami, silahkan ditunggu! !\")\n"
      ],
      "metadata": {
        "colab": {
          "base_uri": "https://localhost:8080/"
        },
        "id": "PiDtu-Qp3aRJ",
        "outputId": "c0c93230-0b62-41ff-885e-083266ab4d7c"
      },
      "execution_count": 27,
      "outputs": [
        {
          "output_type": "stream",
          "name": "stdout",
          "text": [
            " Daftar Menu : \n",
            " 1. Nasi Goreng - Rp. 12.000 \n",
            " 2. Ayam Geprek - Rp. 15.000 \n",
            " 3. Kentang Goreng - Rp. 8.000 \n",
            "------------------------------\n",
            "Masukkan Menu : 2\n",
            "Kamu telah memesan Ayam Geprek dengan harga Rp. 15.000\n",
            "Berapa porsi Ayam Geprek yang ingin dipesan? 2\n",
            "Total Bayar = Rp. 30000\n",
            "Uang Bayar = Rp. 50000\n",
            "Kembalian = Rp. 20000\n",
            "------------------------------\n",
            "Masukkan Tambahan : cukup\n",
            "Terima kasih sudah memesan menu kami, silahkan ditunggu! !\n"
          ]
        }
      ]
    }
  ]
}